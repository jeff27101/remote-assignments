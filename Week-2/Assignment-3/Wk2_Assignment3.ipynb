{
  "nbformat": 4,
  "nbformat_minor": 0,
  "metadata": {
    "colab": {
      "name": "Assignment.ipynb",
      "provenance": []
    },
    "kernelspec": {
      "name": "python3",
      "display_name": "Python 3"
    },
    "language_info": {
      "name": "python"
    }
  },
  "cells": [
    {
      "cell_type": "code",
      "metadata": {
        "id": "7tJN2ZQDTrK7"
      },
      "source": [
        "def avg(data):\n",
        "  prod_value = list(data.values())[0]\n",
        "  price_sum = 0 \n",
        "  for i in prod_value:\n",
        "    if 'price' in i.keys():\n",
        "      price_sum += i['price']\n",
        "  return round((price_sum/len(prod_value)),3)\n"
      ],
      "execution_count": 39,
      "outputs": []
    },
    {
      "cell_type": "code",
      "metadata": {
        "colab": {
          "base_uri": "https://localhost:8080/"
        },
        "id": "cg6dsePmTtp_",
        "outputId": "b68b641e-bd1a-46f3-e9a0-f5ca9537e1f7"
      },
      "source": [
        "print( avg({\"products\": [ {\"name\": \"Product 1\",\"price\": 100 },{\"name\": \"Product 2\", \"price\": 700}, {\"price\": 300 }] })) \n",
        "# print the average price of all products (round to 3 decimal)"
      ],
      "execution_count": 40,
      "outputs": [
        {
          "output_type": "stream",
          "text": [
            "366.667\n"
          ],
          "name": "stdout"
        }
      ]
    },
    {
      "cell_type": "code",
      "metadata": {
        "id": "uyohyQefV0Sn"
      },
      "source": [
        ""
      ],
      "execution_count": null,
      "outputs": []
    }
  ]
}