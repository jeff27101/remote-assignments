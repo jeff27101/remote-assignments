{
  "nbformat": 4,
  "nbformat_minor": 0,
  "metadata": {
    "colab": {
      "name": "Assignment.ipynb",
      "provenance": []
    },
    "kernelspec": {
      "name": "python3",
      "display_name": "Python 3"
    },
    "language_info": {
      "name": "python"
    }
  },
  "cells": [
    {
      "cell_type": "code",
      "metadata": {
        "id": "uyohyQefV0Sn"
      },
      "source": [
        "def count(input):\n",
        "  num_list = [input.count(i) for i in set(input)]\n",
        "  return dict(zip(list(set(input)),num_list))"
      ],
      "execution_count": 72,
      "outputs": []
    },
    {
      "cell_type": "code",
      "metadata": {
        "colab": {
          "base_uri": "https://localhost:8080/"
        },
        "id": "ERhWsDYlcAPf",
        "outputId": "730727df-2df7-4af7-f97b-c1d02984a54a"
      },
      "source": [
        "input1 = ['a', 'b', 'c', 'a', 'c', 'a', 'x']\n",
        "print(count(input1)) # should print {'a': 3, 'b': 1, 'c': 2, 'x': 1}"
      ],
      "execution_count": 73,
      "outputs": [
        {
          "output_type": "stream",
          "text": [
            "{'a': 3, 'c': 2, 'b': 1, 'x': 1}\n"
          ],
          "name": "stdout"
        }
      ]
    },
    {
      "cell_type": "code",
      "metadata": {
        "id": "uqCHBh82bvAX"
      },
      "source": [
        "def group_by_key(input):\n",
        "  all_key = [i['key'] for i in input2]\n",
        "  all_value = [i['value'] for i in input2]\n",
        "  key_list  = list(set(all_key))\n",
        "  num_list = [0] * len(key_list)\n",
        "  result = dict(zip(key_set,num_list))\n",
        "  cal = list(zip(all_key,all_value))\n",
        "  final = {}\n",
        "  for x,y in cal:\n",
        "    result[x] +=y\n",
        "  for i in sorted(result.keys()):\n",
        "    final.update({i:result[i]})\n",
        "  return final"
      ],
      "execution_count": 113,
      "outputs": []
    },
    {
      "cell_type": "code",
      "metadata": {
        "colab": {
          "base_uri": "https://localhost:8080/"
        },
        "id": "qghwUg7YgXwq",
        "outputId": "ee14efd7-05b1-4218-f6c3-1c4830c647d4"
      },
      "source": [
        "input2 = [\n",
        "{'key': 'a', 'value': 3}, {'key': 'b', 'value': 1}, {'key': 'c', 'value': 2}, {'key': 'a', 'value': 3}, {'key': 'c', 'value': 5}\n",
        "]\n",
        "print(group_by_key(input2)) # should print {‘a’: 6, ‘b’: 1, ‘c’: 7}"
      ],
      "execution_count": 114,
      "outputs": [
        {
          "output_type": "stream",
          "text": [
            "{'a': 6, 'b': 1, 'c': 7}\n"
          ],
          "name": "stdout"
        }
      ]
    },
    {
      "cell_type": "code",
      "metadata": {
        "id": "G7-u3BpngkjD"
      },
      "source": [
        ""
      ],
      "execution_count": null,
      "outputs": []
    }
  ]
}