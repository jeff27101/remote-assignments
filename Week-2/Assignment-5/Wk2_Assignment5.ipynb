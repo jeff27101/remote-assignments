{
  "nbformat": 4,
  "nbformat_minor": 0,
  "metadata": {
    "colab": {
      "name": "Assignment.ipynb",
      "provenance": []
    },
    "kernelspec": {
      "name": "python3",
      "display_name": "Python 3"
    },
    "language_info": {
      "name": "python"
    }
  },
  "cells": [
    {
      "cell_type": "code",
      "metadata": {
        "id": "G7-u3BpngkjD"
      },
      "source": [
        "def binary_search_first(numbers, target):\n",
        "  lo = 0\n",
        "  hi = len(numbers)\n",
        "  while lo < hi:\n",
        "    mid = (lo+hi)//2\n",
        "    if numbers[mid] < target:\n",
        "      lo = mid+1\n",
        "    else:\n",
        "      hi = mid\n",
        "  return lo"
      ],
      "execution_count": 115,
      "outputs": []
    },
    {
      "cell_type": "code",
      "metadata": {
        "colab": {
          "base_uri": "https://localhost:8080/"
        },
        "id": "XcIbNSMyBnN-",
        "outputId": "dd9ea533-8d5c-4037-ee90-8a77d010c913"
      },
      "source": [
        "print(binary_search_first([1, 2, 5, 5, 5, 6, 7], 2)) # should print 1 (the index of the target number ‘2’)\n",
        "print(binary_search_first([1, 2, 5, 5, 5, 6, 7], 5)) # should print 2 (the index of the ‘first’ target number ‘5’ shows up)\n",
        "print(binary_search_first([1, 2, 5, 5, 5, 6, 7], 3)) # should print 2 (since it can’t find number 3, return the index of ‘the smallest number larger then 3', that is, the index of the ‘first’ number 5)"
      ],
      "execution_count": 116,
      "outputs": [
        {
          "output_type": "stream",
          "text": [
            "1\n",
            "2\n",
            "2\n"
          ],
          "name": "stdout"
        }
      ]
    }
  ]
}