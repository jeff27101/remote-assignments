{
  "nbformat": 4,
  "nbformat_minor": 0,
  "metadata": {
    "colab": {
      "name": "Assignment.ipynb",
      "provenance": []
    },
    "kernelspec": {
      "name": "python3",
      "display_name": "Python 3"
    },
    "language_info": {
      "name": "python"
    }
  },
  "cells": [
    {
      "cell_type": "code",
      "metadata": {
        "id": "epG0H3SLB5In"
      },
      "source": [
        "def binary_search_position(numbers, target):\n",
        "  low = 0\n",
        "  up = len(numbers)-1\n",
        "  posi = -1\n",
        "  while low <= up:\n",
        "    mid = int(round(low+up)/2)\n",
        "    if numbers[mid] < target:\n",
        "      low = mid+1\n",
        "    elif numbers[mid] > target:\n",
        "      up = mid-1\n",
        "    else:\n",
        "      return mid\n",
        "  return -1"
      ],
      "execution_count": 30,
      "outputs": []
    },
    {
      "cell_type": "code",
      "metadata": {
        "colab": {
          "base_uri": "https://localhost:8080/"
        },
        "id": "3edq3pycEv02",
        "outputId": "993ab2a1-6e92-4506-a371-7656ea4348bb"
      },
      "source": [
        "print(binary_search_position([1, 2, 5, 6, 7], 1)) # should print 0 \n",
        "print(binary_search_position([1, 2, 5, 6, 7], 6)) # should print 3"
      ],
      "execution_count": 34,
      "outputs": [
        {
          "output_type": "stream",
          "text": [
            "0\n",
            "3\n"
          ],
          "name": "stdout"
        }
      ]
    }
  ]
}