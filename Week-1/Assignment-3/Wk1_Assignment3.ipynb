{
  "nbformat": 4,
  "nbformat_minor": 0,
  "metadata": {
    "colab": {
      "name": "Untitled2.ipynb",
      "provenance": []
    },
    "kernelspec": {
      "name": "python3",
      "display_name": "Python 3"
    },
    "language_info": {
      "name": "python"
    }
  },
  "cells": [
    {
      "cell_type": "code",
      "metadata": {
        "id": "1efcWrai6VnU"
      },
      "source": [
        "def find_max(numbers):\n",
        "  position = 0\n",
        "  max_num = -1\n",
        "  for x in numbers:\n",
        "    cur_num = x\n",
        "    if position != 0:\n",
        "      if cur_num > max_num:\n",
        "        max_num = cur_num\n",
        "        position +=1\n",
        "      else:\n",
        "        position +=1\n",
        "    else:\n",
        "      max_num = cur_num\n",
        "      position +=1\n",
        "  return max_num"
      ],
      "execution_count": 18,
      "outputs": []
    },
    {
      "cell_type": "code",
      "metadata": {
        "id": "1GitHH5O7zTZ"
      },
      "source": [
        "def find_position(numbers, target):\n",
        "  count = 0\n",
        "  position = -1\n",
        "  for x in numbers:\n",
        "    cur_num = x\n",
        "    if cur_num == target:\n",
        "      position = count\n",
        "      break\n",
        "    else:\n",
        "      count +=1\n",
        "  return position      "
      ],
      "execution_count": 16,
      "outputs": []
    },
    {
      "cell_type": "code",
      "metadata": {
        "colab": {
          "base_uri": "https://localhost:8080/"
        },
        "id": "vQvoRQhx75-U",
        "outputId": "773dd4a8-77c7-49ba-af57-4f329d42cf91"
      },
      "source": [
        "print(find_max([1, 2, 4, 5]) ); # should print 5\n",
        "print(find_max([5, 2, 7, 1, 6]) ); # should print 7\n",
        "print(find_position([5, 2, 7, 1, 6], 5)) # should print 0 \n",
        "print(find_position([5, 2, 7, 1, 6], 7)) # should print 2 \n",
        "print(find_position([5, 2, 7, 7, 7, 1, 6], 7)) # should print 2 (the first one) \n",
        "print(find_position([5, 2, 7, 1, 6], 8)) # should print -1"
      ],
      "execution_count": 21,
      "outputs": [
        {
          "output_type": "stream",
          "text": [
            "5\n",
            "7\n",
            "0\n",
            "2\n",
            "2\n",
            "-1\n"
          ],
          "name": "stdout"
        }
      ]
    },
    {
      "cell_type": "code",
      "metadata": {
        "id": "2Woqvo6e_rgk"
      },
      "source": [
        ""
      ],
      "execution_count": null,
      "outputs": []
    }
  ]
}