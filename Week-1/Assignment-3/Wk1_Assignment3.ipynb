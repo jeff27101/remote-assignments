{
  "nbformat": 4,
  "nbformat_minor": 0,
  "metadata": {
    "colab": {
      "name": "Assignment.ipynb",
      "provenance": []
    },
    "kernelspec": {
      "name": "python3",
      "display_name": "Python 3"
    },
    "language_info": {
      "name": "python"
    }
  },
  "cells": [
    {
      "cell_type": "code",
      "metadata": {
        "id": "ybQ817GOh-qg"
      },
      "source": [
        "def find_max(numbers):\n",
        "  max_num = -1\n",
        "  for cur_num in numbers:\n",
        "    if cur_num > max_num:\n",
        "      max_num = cur_num\n",
        "  return max_num"
      ],
      "execution_count": 1,
      "outputs": []
    },
    {
      "cell_type": "code",
      "metadata": {
        "id": "BZRnwXG9iAvB"
      },
      "source": [
        "def find_position(numbers, target):\n",
        "  count = 0\n",
        "  position = -1\n",
        "  for cur_num in numbers:\n",
        "    if cur_num == target:\n",
        "      position = count\n",
        "      break\n",
        "    else:\n",
        "      count +=1\n",
        "  return position"
      ],
      "execution_count": 6,
      "outputs": []
    },
    {
      "cell_type": "code",
      "metadata": {
        "colab": {
          "base_uri": "https://localhost:8080/"
        },
        "id": "86Qi2ypEi1JO",
        "outputId": "4fb5d640-dab6-4858-be6f-59f9d8561418"
      },
      "source": [
        "print(find_max([1, 2, 4, 5]) ); # should print 5\n",
        "print(find_max([5, 2, 7, 1, 6]) ); # should print 7\n",
        "print(find_position([5, 2, 7, 1, 6], 5)) # should print 0 \n",
        "print(find_position([5, 2, 7, 1, 6], 7)) # should print 2 \n",
        "print(find_position([5, 2, 7, 7, 7, 1, 6], 7)) # should print 2 (the first one) \n",
        "print(find_position([5, 2, 7, 1, 6], 8)) # should print -1"
      ],
      "execution_count": 7,
      "outputs": [
        {
          "output_type": "stream",
          "text": [
            "5\n",
            "7\n",
            "0\n",
            "2\n",
            "2\n",
            "-1\n"
          ],
          "name": "stdout"
        }
      ]
    }
  ]
}